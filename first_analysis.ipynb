{
 "cells": [
  {
   "cell_type": "markdown",
   "id": "4742a61d-7c1f-46b4-afc8-2dccb460e9cb",
   "metadata": {},
   "source": [
    "# Initial Processing\n",
    "\n",
    "## Summary\n",
    "Find whether .bam files contain RNA modification readings. This would help us understand whether we can read/assume modifications if these modifications do/do not appear in the .bam file. We can also understand how the Oxford Nanopore technology interprets the RNA readings for each cell. Additionally, learn more about .bam files and dorado allignment in relation to the research project. \n",
    "\n",
    "## Goals\n",
    "- [ ] Determine whether .bam files contain I base readings\n",
    "    - [ ] Yes/No\n",
    "- [ ] Determine whether .bam files contain A to I or m6a readings\n",
    "    - [ ] A to I modifications\n",
    "    - [ ] m6a modifications\n",
    "- [ ] Process data on T-cell leukemia cells and T-cells\n",
    "    - [ ] T-cell leukemia cells\n",
    "    - [ ] T-cells\n",
    "- [ ] Understand dorado and .bam file readings\n",
    "    - [ ] Read through dordo allignment\n",
    "    - [ ] .bam file readings/processing\n",
    "    - [ ] Understand dorado allignment in current data\n",
    "\n",
    "## Technologies\n",
    "- samtools\n",
    "    - samtools view input.bam \"Chr10:18000-45500\" > output.bam  would allow you to view a region from the 18000th to 45500th base pair on Chromosome 10\n",
    "    - issues with installation 4/14\n",
    "- IGV: interactive genomics viewer (gui)\n",
    "\n",
    "## Data\n",
    "- ./Data/MR01-1.dorado.aligned.sorted.bam (T-cell leukemia cells)\n",
    "- ./Data/MR01-2.dorado.aligned.sorted.bam (T-cells)\n",
    "\n",
    "## Resources\n",
    "- https://www.sciencedirect.com/science/article/pii/S0301472X24004855?ref=pdf_download&fr=RR-2&rr=92dd41b74ec22b78\n",
    "- https://www.sciencedirect.com/science/article/pii/S0959437X24000443?ref=pdf_download&fr=RR-2&rr=92dd42725d8e2b78\n",
    "- https://genomemedicine.biomedcentral.com/articles/10.1186/gm508#:~:text=Inosines%20exhibit%20properties%20that%20are,RNA%20editing%20and%20human%20diseases\n",
    "- https://oxfordnanoporedx.com/blog/latest-direct-rna-sequencing-kit-enables-higher-accuracy-and-output\n",
    "- https://nanoporetech.com/document/data-analysis\n",
    "- https://www.sciencedirect.com/science/article/pii/S0168952522000749#:~:text=Increased%20ADAR1%20expression%20and/or,squamous%20cell%20carcinoma%2C%20pancreatic%20cancer%2C"
   ]
  },
  {
   "cell_type": "markdown",
   "id": "f4770066-e87e-46aa-bea7-e17b40777e73",
   "metadata": {},
   "source": [
    "# Samtools"
   ]
  }
 ],
 "metadata": {
  "kernelspec": {
   "display_name": "Python 3 (ipykernel)",
   "language": "python",
   "name": "python3"
  },
  "language_info": {
   "codemirror_mode": {
    "name": "ipython",
    "version": 3
   },
   "file_extension": ".py",
   "mimetype": "text/x-python",
   "name": "python",
   "nbconvert_exporter": "python",
   "pygments_lexer": "ipython3",
   "version": "3.11.9"
  }
 },
 "nbformat": 4,
 "nbformat_minor": 5
}
